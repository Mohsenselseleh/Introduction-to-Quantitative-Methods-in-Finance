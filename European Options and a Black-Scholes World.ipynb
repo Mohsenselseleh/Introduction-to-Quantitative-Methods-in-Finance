{
  "nbformat": 4,
  "nbformat_minor": 0,
  "metadata": {
    "colab": {
      "provenance": []
    },
    "kernelspec": {
      "name": "python3",
      "display_name": "Python 3"
    },
    "language_info": {
      "name": "python"
    }
  },
  "cells": [
    {
      "cell_type": "code",
      "execution_count": 1,
      "metadata": {
        "colab": {
          "base_uri": "https://localhost:8080/"
        },
        "id": "Pqo2EW20CxeD",
        "outputId": "79e88151-9223-471f-b1b2-6364def4316f"
      },
      "outputs": [
        {
          "output_type": "stream",
          "name": "stdout",
          "text": [
            "Black–Scholes call price :  7.4675\n",
            "Black–Scholes put  price :  10.1313\n",
            "Call delta               :  0.4947\n",
            "MC price ± 1.96·SE      :  7.3820  ±   0.0836\n"
          ]
        }
      ],
      "source": [
        "\"\"\"\n",
        "European Options in a Black-Scholes World\n",
        "----------------------------------------\n",
        "\n",
        "Key ideas\n",
        "─────────\n",
        "• European option – exercisable only at a fixed maturity  T.\n",
        "• Black-Scholes world – friction-free market where the spot price S_t\n",
        "  follows:  dS/S = r dt + σ dW_t  (GBM with constant r, σ).\n",
        "• No-arbitrage price – discounted risk-neutral expectation of payoff.\n",
        "  ▸ Call  : C = e^{-rT} · E_Q[(S_T − K)^+]\n",
        "  ▸ Put   : P = e^{-rT} · E_Q[(K − S_T)^+]\n",
        "  Black–Scholes closed form gives these expectations analytically.\n",
        "• Greeks (Δ, Γ, Θ, Vega, Rho) – partial derivatives of price w.r.t.\n",
        "  the inputs, measuring risk sensitivities.\n",
        "\n",
        "The code below:\n",
        "  1. Sets parameters.\n",
        "  2. Implements vectorised Black–Scholes price & delta.\n",
        "  3. Runs a fast NumPy Monte-Carlo to sanity-check the price.\n",
        "     (All 100 000 paths in ≈ 0.05 s on a laptop.)\n",
        "\"\"\"\n",
        "\n",
        "import numpy as np\n",
        "from scipy.stats import norm\n",
        "rng = np.random.default_rng(seed=1)\n",
        "\n",
        "# ----------------------------------------------------------------------\n",
        "# 1. Contract & market parameters\n",
        "# ----------------------------------------------------------------------\n",
        "S0     = 100      # spot price\n",
        "K      = 105      # strike\n",
        "r      = 0.03     # risk-free rate (continuously compounded)\n",
        "sigma  = 0.25     # volatility (annualised)\n",
        "T      = 0.75     # maturity in years\n",
        "Nmc    = 100_000  # Monte-Carlo paths\n",
        "\n",
        "# ----------------------------------------------------------------------\n",
        "# 2. Black–Scholes closed-form price, delta, and greeks\n",
        "# ----------------------------------------------------------------------\n",
        "def bs_price_delta(S, K, r, sigma, T, call=True):\n",
        "    \"\"\"Return price and delta for a European option.\"\"\"\n",
        "    if T == 0:                        # avoid divide-by-zero at expiry\n",
        "        payoff = np.maximum(S - K, 0) if call else np.maximum(K - S, 0)\n",
        "        delta  = (S > K).astype(float) if call else -(S < K).astype(float)\n",
        "        return payoff, delta\n",
        "\n",
        "    d1 = (np.log(S / K) + (r + 0.5 * sigma**2) * T) / (sigma * np.sqrt(T))\n",
        "    d2 = d1 - sigma * np.sqrt(T)\n",
        "    if call:\n",
        "        price = S * norm.cdf(d1) - K * np.exp(-r * T) * norm.cdf(d2)\n",
        "        delta = norm.cdf(d1)\n",
        "    else:  # put\n",
        "        price = K * np.exp(-r * T) * norm.cdf(-d2) - S * norm.cdf(-d1)\n",
        "        delta = norm.cdf(d1) - 1\n",
        "    return price, delta\n",
        "\n",
        "C_bs, Delta_bs = bs_price_delta(S0, K, r, sigma, T, call=True)\n",
        "P_bs, _        = bs_price_delta(S0, K, r, sigma, T, call=False)\n",
        "\n",
        "print(f\"Black–Scholes call price : {C_bs: .4f}\")\n",
        "print(f\"Black–Scholes put  price : {P_bs: .4f}\")\n",
        "print(f\"Call delta               : {Delta_bs: .4f}\")\n",
        "\n",
        "# ----------------------------------------------------------------------\n",
        "# 3. Monte-Carlo verification (vectorised, lightning fast)\n",
        "# ----------------------------------------------------------------------\n",
        "# simulate S_T under risk-neutral measure\n",
        "Z   = rng.standard_normal(Nmc)\n",
        "ST  = S0 * np.exp((r - 0.5 * sigma**2) * T + sigma * np.sqrt(T) * Z)\n",
        "call_payoff = np.maximum(ST - K, 0.0)\n",
        "mc_price    = np.exp(-r * T) * call_payoff.mean()\n",
        "se_price    = np.exp(-r * T) * call_payoff.std(ddof=1) / np.sqrt(Nmc)\n",
        "\n",
        "print(f\"MC price ± 1.96·SE      : {mc_price: .4f}  ±  {1.96*se_price: .4f}\")\n"
      ]
    },
    {
      "cell_type": "code",
      "source": [
        "#Black-Scholes says: plug today’s stock price, volatility, rate, strike,\n",
        "#and time to expiry into one formula—that number is the European option’s fair price."
      ],
      "metadata": {
        "id": "RpuMYShkC1jL"
      },
      "execution_count": null,
      "outputs": []
    },
    {
      "cell_type": "code",
      "source": [
        "#Call option: a contract that lets you buy the stock at the fixed strike price on the expiry date, if you want.\n",
        "\n",
        "#Put option: a contract that lets you sell the stock at the fixed strike price on the expiry date, if you want."
      ],
      "metadata": {
        "id": "1Z-ZGOWYDKNq"
      },
      "execution_count": null,
      "outputs": []
    }
  ]
}