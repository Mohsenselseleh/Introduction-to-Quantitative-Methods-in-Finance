{
  "nbformat": 4,
  "nbformat_minor": 0,
  "metadata": {
    "colab": {
      "provenance": []
    },
    "kernelspec": {
      "name": "python3",
      "display_name": "Python 3"
    },
    "language_info": {
      "name": "python"
    }
  },
  "cells": [
    {
      "cell_type": "code",
      "execution_count": 2,
      "metadata": {
        "colab": {
          "base_uri": "https://localhost:8080/"
        },
        "id": "6NlVLBmQ-skb",
        "outputId": "996bb489-d3e6-47bd-8311-2f51bb8c6731"
      },
      "outputs": [
        {
          "output_type": "stream",
          "name": "stderr",
          "text": [
            "/tmp/ipython-input-1132693672.py:20: RuntimeWarning: divide by zero encountered in divide\n",
            "  d1 = (np.log(S / K) + (r + 0.5*σ**2)*τ) / (σ*sqrtτ)\n"
          ]
        },
        {
          "output_type": "stream",
          "name": "stdout",
          "text": [
            "mean error   : -0.0021\n",
            "st.dev error :  0.4384\n"
          ]
        }
      ],
      "source": [
        "import numpy as np\n",
        "from scipy.stats import norm\n",
        "rng = np.random.default_rng(7)\n",
        "\n",
        "# -------------------------------------------------\n",
        "# Inputs\n",
        "# -------------------------------------------------\n",
        "S0, K = 100, 100              # spot, strike\n",
        "r, σ  = 0.02, 0.20            # risk-free, volatility\n",
        "T, steps = 1.0, 252           # years, hedge dates\n",
        "N = 20_000                    # Monte-Carlo paths\n",
        "dt = T / steps\n",
        "\n",
        "# -------------------------------------------------\n",
        "# Helper: Black–Scholes Δ (vectorised)\n",
        "# -------------------------------------------------\n",
        "def delta_bs(S, τ):\n",
        "    \"\"\"Δ of a call; S and τ can be NumPy arrays (broadcasts).\"\"\"\n",
        "    sqrtτ = np.sqrt(τ)\n",
        "    d1 = (np.log(S / K) + (r + 0.5*σ**2)*τ) / (σ*sqrtτ)\n",
        "    return norm.cdf(d1)\n",
        "\n",
        "# Closed-form option price at t=0\n",
        "d1_0 = (np.log(S0/K)+(r+0.5*σ**2)*T)/(σ*np.sqrt(T))\n",
        "d2_0 = d1_0 - σ*np.sqrt(T)\n",
        "C0   = S0*norm.cdf(d1_0) - K*np.exp(-r*T)*norm.cdf(d2_0)\n",
        "\n",
        "# -------------------------------------------------\n",
        "# 1. Simulate all price paths in one matrix  (N × steps)\n",
        "# -------------------------------------------------\n",
        "Z   = rng.standard_normal((N, steps))\n",
        "logS = (np.log(S0) +\n",
        "        np.cumsum((r-0.5*σ**2)*dt + σ*np.sqrt(dt)*Z, axis=1))\n",
        "S    = np.hstack((np.full((N,1), S0), np.exp(logS)))   # N × (steps+1)\n",
        "\n",
        "# -------------------------------------------------\n",
        "# 2. Pre-compute all deltas (same shape)\n",
        "# -------------------------------------------------\n",
        "τ    = T - np.arange(steps+1)*dt            # time-to-mat vector, length steps+1\n",
        "Δ    = delta_bs(S, τ)                       # broadcasts to N × (steps+1)\n",
        "\n",
        "# -------------------------------------------------\n",
        "# 3. Vectorised hedging cash-account\n",
        "# -------------------------------------------------\n",
        "cash      = C0 - Δ[:,0]*S[:,0]              # N-vector\n",
        "Δ_prev    = Δ[:,0]\n",
        "\n",
        "for k in range(1, steps+1):\n",
        "    cash *= np.exp(r*dt)                    # grow at r\n",
        "    dΔ     = Δ[:,k] - Δ_prev\n",
        "    cash  -= dΔ * S[:,k]                    # trade stock\n",
        "    Δ_prev = Δ[:,k]\n",
        "\n",
        "# -------------------------------------------------\n",
        "# 4. Hedge error statistics\n",
        "# -------------------------------------------------\n",
        "portfolio = cash + Δ_prev * S[:,-1]\n",
        "payoff    = np.maximum(S[:,-1]-K, 0.0)\n",
        "errors    = portfolio - payoff\n",
        "\n",
        "print(f\"mean error   : {errors.mean(): .4f}\")\n",
        "print(f\"st.dev error : {errors.std(ddof=1): .4f}\")\n"
      ]
    },
    {
      "cell_type": "code",
      "source": [
        "#Delta hedging: buy or sell a bit of stock so tiny price changes don’t affect your option trade."
      ],
      "metadata": {
        "id": "vSHgNDuiAwZo"
      },
      "execution_count": null,
      "outputs": []
    }
  ]
}