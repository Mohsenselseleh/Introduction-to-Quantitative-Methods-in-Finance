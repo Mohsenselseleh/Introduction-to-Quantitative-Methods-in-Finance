{
  "nbformat": 4,
  "nbformat_minor": 0,
  "metadata": {
    "colab": {
      "provenance": []
    },
    "kernelspec": {
      "name": "python3",
      "display_name": "Python 3"
    },
    "language_info": {
      "name": "python"
    }
  },
  "cells": [
    {
      "cell_type": "code",
      "execution_count": 3,
      "metadata": {
        "colab": {
          "base_uri": "https://localhost:8080/"
        },
        "id": "NNAeTynNEVEg",
        "outputId": "83c2d924-8edd-47d7-cc7f-7ff3768474fe"
      },
      "outputs": [
        {
          "output_type": "stream",
          "name": "stderr",
          "text": [
            "[*********************100%***********************]  1 of 1 completed\n",
            "[*********************100%***********************]  1 of 1 completed"
          ]
        },
        {
          "output_type": "stream",
          "name": "stdout",
          "text": [
            "Price           Close       High        Low       Open     Volume\n",
            "Ticker           AAPL       AAPL       AAPL       AAPL       AAPL\n",
            "Date                                                             \n",
            "2020-01-02  72.620842  72.681289  71.373218  71.627092  135480400\n",
            "2020-01-03  71.914818  72.676447  71.689957  71.847118  146322800\n",
            "2020-01-06  72.487846  72.526533  70.783248  71.034709  118387200\n",
            "2020-01-07  72.146935  72.753816  71.926907  72.497522  108872000\n",
            "2020-01-08  73.307495  73.609729  71.849518  71.849518  132079200\n",
            "Ticker           AAPL\n",
            "Date                 \n",
            "2020-01-02  72.620842\n",
            "2020-01-03  71.914818\n",
            "2020-01-06  72.487846\n",
            "2020-01-07  72.146935\n",
            "2020-01-08  73.307495\n"
          ]
        },
        {
          "output_type": "stream",
          "name": "stderr",
          "text": [
            "\n"
          ]
        }
      ],
      "source": [
        "import yfinance as yf\n",
        "import numpy as np\n",
        "import pandas as pd\n",
        "\n",
        "ticker = \"AAPL\"\n",
        "start  = \"2020-01-01\"\n",
        "\n",
        "# --- Option 1: ask explicitly for Adj Close (set auto_adjust=False) ----\n",
        "raw = yf.download(ticker, start=start, auto_adjust=False)  # keeps 'Adj Close'\n",
        "prices = raw['Adj Close']          # ← old code works unchanged\n",
        "\n",
        "# --- Option 2: keep auto_adjust=True and fall back gracefully ----------\n",
        "raw = yf.download(ticker, start=start, auto_adjust=True)   # default path\n",
        "prices = raw.get('Adj Close', raw['Close'])  # use Adj Close if it exists,\n",
        "                                             # else already-adjusted Close\n",
        "\n",
        "print(raw.head())          # raw DataFrame\n",
        "print(prices.head())       # the Series you extracted\n"
      ]
    }
  ]
}